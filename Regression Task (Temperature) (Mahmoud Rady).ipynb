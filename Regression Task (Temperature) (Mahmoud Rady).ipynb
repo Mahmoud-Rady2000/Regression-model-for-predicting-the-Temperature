{
 "cells": [
  {
   "cell_type": "markdown",
   "id": "90738d35",
   "metadata": {},
   "source": [
    "🌟🌟🌟🌟🌟🌟🌟🌟🌟🌟🌟🌟🌟🌟🌟🌟🌟🌟🌟🌟🌟🌟🌟🌟🌟🌟🌟🌟🌟🌟🌟🌟🌟🌟🌟🌟🌟🌟🌟🌟🌟🌟🌟🌟🌟🌟🌟\n",
    "\n",
    "Regression model for predicting the temperature by know 5 features:  \n",
    "('Humidity', 'Wind Speed (km/h)', 'Wind Bearing (degrees)', 'Visibility (km)', 'Pressure (millibars)') from weatherHistory dataset\n",
    "\n",
    "By:Mahmoud Mohamed Rady\n",
    "\n",
    "🌟🌟🌟🌟🌟🌟🌟🌟🌟🌟🌟🌟🌟🌟🌟🌟🌟🌟🌟🌟🌟🌟🌟🌟🌟🌟🌟🌟🌟🌟🌟🌟🌟🌟🌟🌟🌟🌟🌟🌟🌟🌟🌟🌟🌟🌟🌟"
   ]
  },
  {
   "cell_type": "code",
   "execution_count": null,
   "id": "ee9131ef",
   "metadata": {},
   "outputs": [],
   "source": []
  },
  {
   "cell_type": "markdown",
   "id": "e12df3ea",
   "metadata": {},
   "source": [
    "################################################  Importing libraries and packages  ##############################################"
   ]
  },
  {
   "cell_type": "code",
   "execution_count": 62,
   "id": "221ee8cc",
   "metadata": {},
   "outputs": [],
   "source": [
    "import pandas as pd\n",
    "import numpy as np\n",
    "from sklearn.model_selection import train_test_split\n",
    "from sklearn.linear_model import LinearRegression\n",
    "from sklearn.preprocessing import PolynomialFeatures\n",
    "from sklearn.metrics import mean_squared_error,mean_absolute_error,r2_score,mean_squared_error\n",
    "from math import sqrt\n",
    "import matplotlib.pyplot as plt\n",
    "import seaborn as sns\n"
   ]
  },
  {
   "cell_type": "markdown",
   "id": "15e16c38",
   "metadata": {},
   "source": [
    "################################################ Reading Dataset  ##########################################################"
   ]
  },
  {
   "cell_type": "code",
   "execution_count": 2,
   "id": "1dffa116",
   "metadata": {},
   "outputs": [],
   "source": [
    "df = pd.read_csv('weatherHistory.csv')\n"
   ]
  },
  {
   "cell_type": "markdown",
   "id": "b52ec23e",
   "metadata": {},
   "source": [
    "################################################  Data Exploration and Preprocess ##############################################"
   ]
  },
  {
   "cell_type": "code",
   "execution_count": 3,
   "id": "dff9794f",
   "metadata": {},
   "outputs": [
    {
     "data": {
      "text/html": [
       "<div>\n",
       "<style scoped>\n",
       "    .dataframe tbody tr th:only-of-type {\n",
       "        vertical-align: middle;\n",
       "    }\n",
       "\n",
       "    .dataframe tbody tr th {\n",
       "        vertical-align: top;\n",
       "    }\n",
       "\n",
       "    .dataframe thead th {\n",
       "        text-align: right;\n",
       "    }\n",
       "</style>\n",
       "<table border=\"1\" class=\"dataframe\">\n",
       "  <thead>\n",
       "    <tr style=\"text-align: right;\">\n",
       "      <th></th>\n",
       "      <th>Formatted Date</th>\n",
       "      <th>Summary</th>\n",
       "      <th>Precip Type</th>\n",
       "      <th>Temperature (C)</th>\n",
       "      <th>Apparent Temperature (C)</th>\n",
       "      <th>Humidity</th>\n",
       "      <th>Wind Speed (km/h)</th>\n",
       "      <th>Wind Bearing (degrees)</th>\n",
       "      <th>Visibility (km)</th>\n",
       "      <th>Loud Cover</th>\n",
       "      <th>Pressure (millibars)</th>\n",
       "      <th>Daily Summary</th>\n",
       "    </tr>\n",
       "  </thead>\n",
       "  <tbody>\n",
       "    <tr>\n",
       "      <th>0</th>\n",
       "      <td>2006-04-01 00:00:00.000 +0200</td>\n",
       "      <td>Partly Cloudy</td>\n",
       "      <td>rain</td>\n",
       "      <td>9.472222</td>\n",
       "      <td>7.388889</td>\n",
       "      <td>0.89</td>\n",
       "      <td>14.1197</td>\n",
       "      <td>251.0</td>\n",
       "      <td>15.8263</td>\n",
       "      <td>0.0</td>\n",
       "      <td>1015.13</td>\n",
       "      <td>Partly cloudy throughout the day.</td>\n",
       "    </tr>\n",
       "    <tr>\n",
       "      <th>1</th>\n",
       "      <td>2006-04-01 01:00:00.000 +0200</td>\n",
       "      <td>Partly Cloudy</td>\n",
       "      <td>rain</td>\n",
       "      <td>9.355556</td>\n",
       "      <td>7.227778</td>\n",
       "      <td>0.86</td>\n",
       "      <td>14.2646</td>\n",
       "      <td>259.0</td>\n",
       "      <td>15.8263</td>\n",
       "      <td>0.0</td>\n",
       "      <td>1015.63</td>\n",
       "      <td>Partly cloudy throughout the day.</td>\n",
       "    </tr>\n",
       "    <tr>\n",
       "      <th>2</th>\n",
       "      <td>2006-04-01 02:00:00.000 +0200</td>\n",
       "      <td>Mostly Cloudy</td>\n",
       "      <td>rain</td>\n",
       "      <td>9.377778</td>\n",
       "      <td>9.377778</td>\n",
       "      <td>0.89</td>\n",
       "      <td>3.9284</td>\n",
       "      <td>204.0</td>\n",
       "      <td>14.9569</td>\n",
       "      <td>0.0</td>\n",
       "      <td>1015.94</td>\n",
       "      <td>Partly cloudy throughout the day.</td>\n",
       "    </tr>\n",
       "    <tr>\n",
       "      <th>3</th>\n",
       "      <td>2006-04-01 03:00:00.000 +0200</td>\n",
       "      <td>Partly Cloudy</td>\n",
       "      <td>rain</td>\n",
       "      <td>8.288889</td>\n",
       "      <td>5.944444</td>\n",
       "      <td>0.83</td>\n",
       "      <td>14.1036</td>\n",
       "      <td>269.0</td>\n",
       "      <td>15.8263</td>\n",
       "      <td>0.0</td>\n",
       "      <td>1016.41</td>\n",
       "      <td>Partly cloudy throughout the day.</td>\n",
       "    </tr>\n",
       "    <tr>\n",
       "      <th>4</th>\n",
       "      <td>2006-04-01 04:00:00.000 +0200</td>\n",
       "      <td>Mostly Cloudy</td>\n",
       "      <td>rain</td>\n",
       "      <td>8.755556</td>\n",
       "      <td>6.977778</td>\n",
       "      <td>0.83</td>\n",
       "      <td>11.0446</td>\n",
       "      <td>259.0</td>\n",
       "      <td>15.8263</td>\n",
       "      <td>0.0</td>\n",
       "      <td>1016.51</td>\n",
       "      <td>Partly cloudy throughout the day.</td>\n",
       "    </tr>\n",
       "    <tr>\n",
       "      <th>...</th>\n",
       "      <td>...</td>\n",
       "      <td>...</td>\n",
       "      <td>...</td>\n",
       "      <td>...</td>\n",
       "      <td>...</td>\n",
       "      <td>...</td>\n",
       "      <td>...</td>\n",
       "      <td>...</td>\n",
       "      <td>...</td>\n",
       "      <td>...</td>\n",
       "      <td>...</td>\n",
       "      <td>...</td>\n",
       "    </tr>\n",
       "    <tr>\n",
       "      <th>96448</th>\n",
       "      <td>2016-09-09 19:00:00.000 +0200</td>\n",
       "      <td>Partly Cloudy</td>\n",
       "      <td>rain</td>\n",
       "      <td>26.016667</td>\n",
       "      <td>26.016667</td>\n",
       "      <td>0.43</td>\n",
       "      <td>10.9963</td>\n",
       "      <td>31.0</td>\n",
       "      <td>16.1000</td>\n",
       "      <td>0.0</td>\n",
       "      <td>1014.36</td>\n",
       "      <td>Partly cloudy starting in the morning.</td>\n",
       "    </tr>\n",
       "    <tr>\n",
       "      <th>96449</th>\n",
       "      <td>2016-09-09 20:00:00.000 +0200</td>\n",
       "      <td>Partly Cloudy</td>\n",
       "      <td>rain</td>\n",
       "      <td>24.583333</td>\n",
       "      <td>24.583333</td>\n",
       "      <td>0.48</td>\n",
       "      <td>10.0947</td>\n",
       "      <td>20.0</td>\n",
       "      <td>15.5526</td>\n",
       "      <td>0.0</td>\n",
       "      <td>1015.16</td>\n",
       "      <td>Partly cloudy starting in the morning.</td>\n",
       "    </tr>\n",
       "    <tr>\n",
       "      <th>96450</th>\n",
       "      <td>2016-09-09 21:00:00.000 +0200</td>\n",
       "      <td>Partly Cloudy</td>\n",
       "      <td>rain</td>\n",
       "      <td>22.038889</td>\n",
       "      <td>22.038889</td>\n",
       "      <td>0.56</td>\n",
       "      <td>8.9838</td>\n",
       "      <td>30.0</td>\n",
       "      <td>16.1000</td>\n",
       "      <td>0.0</td>\n",
       "      <td>1015.66</td>\n",
       "      <td>Partly cloudy starting in the morning.</td>\n",
       "    </tr>\n",
       "    <tr>\n",
       "      <th>96451</th>\n",
       "      <td>2016-09-09 22:00:00.000 +0200</td>\n",
       "      <td>Partly Cloudy</td>\n",
       "      <td>rain</td>\n",
       "      <td>21.522222</td>\n",
       "      <td>21.522222</td>\n",
       "      <td>0.60</td>\n",
       "      <td>10.5294</td>\n",
       "      <td>20.0</td>\n",
       "      <td>16.1000</td>\n",
       "      <td>0.0</td>\n",
       "      <td>1015.95</td>\n",
       "      <td>Partly cloudy starting in the morning.</td>\n",
       "    </tr>\n",
       "    <tr>\n",
       "      <th>96452</th>\n",
       "      <td>2016-09-09 23:00:00.000 +0200</td>\n",
       "      <td>Partly Cloudy</td>\n",
       "      <td>rain</td>\n",
       "      <td>20.438889</td>\n",
       "      <td>20.438889</td>\n",
       "      <td>0.61</td>\n",
       "      <td>5.8765</td>\n",
       "      <td>39.0</td>\n",
       "      <td>15.5204</td>\n",
       "      <td>0.0</td>\n",
       "      <td>1016.16</td>\n",
       "      <td>Partly cloudy starting in the morning.</td>\n",
       "    </tr>\n",
       "  </tbody>\n",
       "</table>\n",
       "<p>96453 rows × 12 columns</p>\n",
       "</div>"
      ],
      "text/plain": [
       "                      Formatted Date        Summary Precip Type  \\\n",
       "0      2006-04-01 00:00:00.000 +0200  Partly Cloudy        rain   \n",
       "1      2006-04-01 01:00:00.000 +0200  Partly Cloudy        rain   \n",
       "2      2006-04-01 02:00:00.000 +0200  Mostly Cloudy        rain   \n",
       "3      2006-04-01 03:00:00.000 +0200  Partly Cloudy        rain   \n",
       "4      2006-04-01 04:00:00.000 +0200  Mostly Cloudy        rain   \n",
       "...                              ...            ...         ...   \n",
       "96448  2016-09-09 19:00:00.000 +0200  Partly Cloudy        rain   \n",
       "96449  2016-09-09 20:00:00.000 +0200  Partly Cloudy        rain   \n",
       "96450  2016-09-09 21:00:00.000 +0200  Partly Cloudy        rain   \n",
       "96451  2016-09-09 22:00:00.000 +0200  Partly Cloudy        rain   \n",
       "96452  2016-09-09 23:00:00.000 +0200  Partly Cloudy        rain   \n",
       "\n",
       "       Temperature (C)  Apparent Temperature (C)  Humidity  Wind Speed (km/h)  \\\n",
       "0             9.472222                  7.388889      0.89            14.1197   \n",
       "1             9.355556                  7.227778      0.86            14.2646   \n",
       "2             9.377778                  9.377778      0.89             3.9284   \n",
       "3             8.288889                  5.944444      0.83            14.1036   \n",
       "4             8.755556                  6.977778      0.83            11.0446   \n",
       "...                ...                       ...       ...                ...   \n",
       "96448        26.016667                 26.016667      0.43            10.9963   \n",
       "96449        24.583333                 24.583333      0.48            10.0947   \n",
       "96450        22.038889                 22.038889      0.56             8.9838   \n",
       "96451        21.522222                 21.522222      0.60            10.5294   \n",
       "96452        20.438889                 20.438889      0.61             5.8765   \n",
       "\n",
       "       Wind Bearing (degrees)  Visibility (km)  Loud Cover  \\\n",
       "0                       251.0          15.8263         0.0   \n",
       "1                       259.0          15.8263         0.0   \n",
       "2                       204.0          14.9569         0.0   \n",
       "3                       269.0          15.8263         0.0   \n",
       "4                       259.0          15.8263         0.0   \n",
       "...                       ...              ...         ...   \n",
       "96448                    31.0          16.1000         0.0   \n",
       "96449                    20.0          15.5526         0.0   \n",
       "96450                    30.0          16.1000         0.0   \n",
       "96451                    20.0          16.1000         0.0   \n",
       "96452                    39.0          15.5204         0.0   \n",
       "\n",
       "       Pressure (millibars)                           Daily Summary  \n",
       "0                   1015.13       Partly cloudy throughout the day.  \n",
       "1                   1015.63       Partly cloudy throughout the day.  \n",
       "2                   1015.94       Partly cloudy throughout the day.  \n",
       "3                   1016.41       Partly cloudy throughout the day.  \n",
       "4                   1016.51       Partly cloudy throughout the day.  \n",
       "...                     ...                                     ...  \n",
       "96448               1014.36  Partly cloudy starting in the morning.  \n",
       "96449               1015.16  Partly cloudy starting in the morning.  \n",
       "96450               1015.66  Partly cloudy starting in the morning.  \n",
       "96451               1015.95  Partly cloudy starting in the morning.  \n",
       "96452               1016.16  Partly cloudy starting in the morning.  \n",
       "\n",
       "[96453 rows x 12 columns]"
      ]
     },
     "execution_count": 3,
     "metadata": {},
     "output_type": "execute_result"
    }
   ],
   "source": [
    "df"
   ]
  },
  {
   "cell_type": "code",
   "execution_count": 4,
   "id": "febcf863",
   "metadata": {},
   "outputs": [
    {
     "name": "stdout",
     "output_type": "stream",
     "text": [
      "<class 'pandas.core.frame.DataFrame'>\n",
      "RangeIndex: 96453 entries, 0 to 96452\n",
      "Data columns (total 12 columns):\n",
      " #   Column                    Non-Null Count  Dtype  \n",
      "---  ------                    --------------  -----  \n",
      " 0   Formatted Date            96453 non-null  object \n",
      " 1   Summary                   96453 non-null  object \n",
      " 2   Precip Type               95936 non-null  object \n",
      " 3   Temperature (C)           96453 non-null  float64\n",
      " 4   Apparent Temperature (C)  96453 non-null  float64\n",
      " 5   Humidity                  96453 non-null  float64\n",
      " 6   Wind Speed (km/h)         96453 non-null  float64\n",
      " 7   Wind Bearing (degrees)    96453 non-null  float64\n",
      " 8   Visibility (km)           96453 non-null  float64\n",
      " 9   Loud Cover                96453 non-null  float64\n",
      " 10  Pressure (millibars)      96453 non-null  float64\n",
      " 11  Daily Summary             96453 non-null  object \n",
      "dtypes: float64(8), object(4)\n",
      "memory usage: 8.8+ MB\n"
     ]
    }
   ],
   "source": [
    "df.info()"
   ]
  },
  {
   "cell_type": "code",
   "execution_count": 5,
   "id": "3efc1e67",
   "metadata": {},
   "outputs": [],
   "source": [
    "#above we can see that there are no null or nan values in the data (no missing values)"
   ]
  },
  {
   "cell_type": "code",
   "execution_count": 6,
   "id": "df5b2021",
   "metadata": {},
   "outputs": [
    {
     "data": {
      "text/plain": [
       "array(['2006-04-01 00:00:00.000 +0200', '2006-04-01 01:00:00.000 +0200',\n",
       "       '2006-04-01 02:00:00.000 +0200', ...,\n",
       "       '2016-09-09 21:00:00.000 +0200', '2016-09-09 22:00:00.000 +0200',\n",
       "       '2016-09-09 23:00:00.000 +0200'], dtype=object)"
      ]
     },
     "execution_count": 6,
     "metadata": {},
     "output_type": "execute_result"
    }
   ],
   "source": [
    "#show the nature of ('Formatted Date') feature\n",
    "df['Formatted Date'].unique()"
   ]
  },
  {
   "cell_type": "code",
   "execution_count": 7,
   "id": "b1a54220",
   "metadata": {},
   "outputs": [
    {
     "name": "stdout",
     "output_type": "stream",
     "text": [
      "       day  month  year\n",
      "0       31      3  2006\n",
      "1       31      3  2006\n",
      "2        1      4  2006\n",
      "3        1      4  2006\n",
      "4        1      4  2006\n",
      "...    ...    ...   ...\n",
      "96448    9      9  2016\n",
      "96449    9      9  2016\n",
      "96450    9      9  2016\n",
      "96451    9      9  2016\n",
      "96452    9      9  2016\n",
      "\n",
      "[96453 rows x 3 columns]\n"
     ]
    }
   ],
   "source": [
    "#Here we will convert the date column into three columns (day,month,year),so we can give it to the model.\n",
    "#we will not use these features in the learning phase because its not important enough.\n",
    "\n",
    "df['Formatted Date'] = pd.to_datetime(df['Formatted Date'], utc=True)\n",
    "\n",
    "# Extract day, month, and year into separate columns\n",
    "df['day'] = df['Formatted Date'].dt.day\n",
    "df['month'] = df['Formatted Date'].dt.month\n",
    "df['year'] = df['Formatted Date'].dt.year\n",
    "\n",
    "# Drop the original 'Formatted Date' column if needed\n",
    "# df = df.drop(columns=['Formatted Date'])\n",
    "\n",
    "# Display the modified DataFrame\n",
    "print(df[['day', 'month', 'year']])\n",
    "\n",
    "#we will not use these features in the learning phase because its not important enough."
   ]
  },
  {
   "cell_type": "code",
   "execution_count": 8,
   "id": "ca78e96b",
   "metadata": {},
   "outputs": [
    {
     "data": {
      "text/html": [
       "<div>\n",
       "<style scoped>\n",
       "    .dataframe tbody tr th:only-of-type {\n",
       "        vertical-align: middle;\n",
       "    }\n",
       "\n",
       "    .dataframe tbody tr th {\n",
       "        vertical-align: top;\n",
       "    }\n",
       "\n",
       "    .dataframe thead th {\n",
       "        text-align: right;\n",
       "    }\n",
       "</style>\n",
       "<table border=\"1\" class=\"dataframe\">\n",
       "  <thead>\n",
       "    <tr style=\"text-align: right;\">\n",
       "      <th></th>\n",
       "      <th>Formatted Date</th>\n",
       "      <th>Summary</th>\n",
       "      <th>Precip Type</th>\n",
       "      <th>Temperature (C)</th>\n",
       "      <th>Apparent Temperature (C)</th>\n",
       "      <th>Humidity</th>\n",
       "      <th>Wind Speed (km/h)</th>\n",
       "      <th>Wind Bearing (degrees)</th>\n",
       "      <th>Visibility (km)</th>\n",
       "      <th>Loud Cover</th>\n",
       "      <th>Pressure (millibars)</th>\n",
       "      <th>Daily Summary</th>\n",
       "      <th>day</th>\n",
       "      <th>month</th>\n",
       "      <th>year</th>\n",
       "    </tr>\n",
       "  </thead>\n",
       "  <tbody>\n",
       "    <tr>\n",
       "      <th>0</th>\n",
       "      <td>2006-03-31 22:00:00+00:00</td>\n",
       "      <td>Partly Cloudy</td>\n",
       "      <td>rain</td>\n",
       "      <td>9.472222</td>\n",
       "      <td>7.388889</td>\n",
       "      <td>0.89</td>\n",
       "      <td>14.1197</td>\n",
       "      <td>251.0</td>\n",
       "      <td>15.8263</td>\n",
       "      <td>0.0</td>\n",
       "      <td>1015.13</td>\n",
       "      <td>Partly cloudy throughout the day.</td>\n",
       "      <td>31</td>\n",
       "      <td>3</td>\n",
       "      <td>2006</td>\n",
       "    </tr>\n",
       "    <tr>\n",
       "      <th>1</th>\n",
       "      <td>2006-03-31 23:00:00+00:00</td>\n",
       "      <td>Partly Cloudy</td>\n",
       "      <td>rain</td>\n",
       "      <td>9.355556</td>\n",
       "      <td>7.227778</td>\n",
       "      <td>0.86</td>\n",
       "      <td>14.2646</td>\n",
       "      <td>259.0</td>\n",
       "      <td>15.8263</td>\n",
       "      <td>0.0</td>\n",
       "      <td>1015.63</td>\n",
       "      <td>Partly cloudy throughout the day.</td>\n",
       "      <td>31</td>\n",
       "      <td>3</td>\n",
       "      <td>2006</td>\n",
       "    </tr>\n",
       "    <tr>\n",
       "      <th>2</th>\n",
       "      <td>2006-04-01 00:00:00+00:00</td>\n",
       "      <td>Mostly Cloudy</td>\n",
       "      <td>rain</td>\n",
       "      <td>9.377778</td>\n",
       "      <td>9.377778</td>\n",
       "      <td>0.89</td>\n",
       "      <td>3.9284</td>\n",
       "      <td>204.0</td>\n",
       "      <td>14.9569</td>\n",
       "      <td>0.0</td>\n",
       "      <td>1015.94</td>\n",
       "      <td>Partly cloudy throughout the day.</td>\n",
       "      <td>1</td>\n",
       "      <td>4</td>\n",
       "      <td>2006</td>\n",
       "    </tr>\n",
       "    <tr>\n",
       "      <th>3</th>\n",
       "      <td>2006-04-01 01:00:00+00:00</td>\n",
       "      <td>Partly Cloudy</td>\n",
       "      <td>rain</td>\n",
       "      <td>8.288889</td>\n",
       "      <td>5.944444</td>\n",
       "      <td>0.83</td>\n",
       "      <td>14.1036</td>\n",
       "      <td>269.0</td>\n",
       "      <td>15.8263</td>\n",
       "      <td>0.0</td>\n",
       "      <td>1016.41</td>\n",
       "      <td>Partly cloudy throughout the day.</td>\n",
       "      <td>1</td>\n",
       "      <td>4</td>\n",
       "      <td>2006</td>\n",
       "    </tr>\n",
       "    <tr>\n",
       "      <th>4</th>\n",
       "      <td>2006-04-01 02:00:00+00:00</td>\n",
       "      <td>Mostly Cloudy</td>\n",
       "      <td>rain</td>\n",
       "      <td>8.755556</td>\n",
       "      <td>6.977778</td>\n",
       "      <td>0.83</td>\n",
       "      <td>11.0446</td>\n",
       "      <td>259.0</td>\n",
       "      <td>15.8263</td>\n",
       "      <td>0.0</td>\n",
       "      <td>1016.51</td>\n",
       "      <td>Partly cloudy throughout the day.</td>\n",
       "      <td>1</td>\n",
       "      <td>4</td>\n",
       "      <td>2006</td>\n",
       "    </tr>\n",
       "    <tr>\n",
       "      <th>...</th>\n",
       "      <td>...</td>\n",
       "      <td>...</td>\n",
       "      <td>...</td>\n",
       "      <td>...</td>\n",
       "      <td>...</td>\n",
       "      <td>...</td>\n",
       "      <td>...</td>\n",
       "      <td>...</td>\n",
       "      <td>...</td>\n",
       "      <td>...</td>\n",
       "      <td>...</td>\n",
       "      <td>...</td>\n",
       "      <td>...</td>\n",
       "      <td>...</td>\n",
       "      <td>...</td>\n",
       "    </tr>\n",
       "    <tr>\n",
       "      <th>96448</th>\n",
       "      <td>2016-09-09 17:00:00+00:00</td>\n",
       "      <td>Partly Cloudy</td>\n",
       "      <td>rain</td>\n",
       "      <td>26.016667</td>\n",
       "      <td>26.016667</td>\n",
       "      <td>0.43</td>\n",
       "      <td>10.9963</td>\n",
       "      <td>31.0</td>\n",
       "      <td>16.1000</td>\n",
       "      <td>0.0</td>\n",
       "      <td>1014.36</td>\n",
       "      <td>Partly cloudy starting in the morning.</td>\n",
       "      <td>9</td>\n",
       "      <td>9</td>\n",
       "      <td>2016</td>\n",
       "    </tr>\n",
       "    <tr>\n",
       "      <th>96449</th>\n",
       "      <td>2016-09-09 18:00:00+00:00</td>\n",
       "      <td>Partly Cloudy</td>\n",
       "      <td>rain</td>\n",
       "      <td>24.583333</td>\n",
       "      <td>24.583333</td>\n",
       "      <td>0.48</td>\n",
       "      <td>10.0947</td>\n",
       "      <td>20.0</td>\n",
       "      <td>15.5526</td>\n",
       "      <td>0.0</td>\n",
       "      <td>1015.16</td>\n",
       "      <td>Partly cloudy starting in the morning.</td>\n",
       "      <td>9</td>\n",
       "      <td>9</td>\n",
       "      <td>2016</td>\n",
       "    </tr>\n",
       "    <tr>\n",
       "      <th>96450</th>\n",
       "      <td>2016-09-09 19:00:00+00:00</td>\n",
       "      <td>Partly Cloudy</td>\n",
       "      <td>rain</td>\n",
       "      <td>22.038889</td>\n",
       "      <td>22.038889</td>\n",
       "      <td>0.56</td>\n",
       "      <td>8.9838</td>\n",
       "      <td>30.0</td>\n",
       "      <td>16.1000</td>\n",
       "      <td>0.0</td>\n",
       "      <td>1015.66</td>\n",
       "      <td>Partly cloudy starting in the morning.</td>\n",
       "      <td>9</td>\n",
       "      <td>9</td>\n",
       "      <td>2016</td>\n",
       "    </tr>\n",
       "    <tr>\n",
       "      <th>96451</th>\n",
       "      <td>2016-09-09 20:00:00+00:00</td>\n",
       "      <td>Partly Cloudy</td>\n",
       "      <td>rain</td>\n",
       "      <td>21.522222</td>\n",
       "      <td>21.522222</td>\n",
       "      <td>0.60</td>\n",
       "      <td>10.5294</td>\n",
       "      <td>20.0</td>\n",
       "      <td>16.1000</td>\n",
       "      <td>0.0</td>\n",
       "      <td>1015.95</td>\n",
       "      <td>Partly cloudy starting in the morning.</td>\n",
       "      <td>9</td>\n",
       "      <td>9</td>\n",
       "      <td>2016</td>\n",
       "    </tr>\n",
       "    <tr>\n",
       "      <th>96452</th>\n",
       "      <td>2016-09-09 21:00:00+00:00</td>\n",
       "      <td>Partly Cloudy</td>\n",
       "      <td>rain</td>\n",
       "      <td>20.438889</td>\n",
       "      <td>20.438889</td>\n",
       "      <td>0.61</td>\n",
       "      <td>5.8765</td>\n",
       "      <td>39.0</td>\n",
       "      <td>15.5204</td>\n",
       "      <td>0.0</td>\n",
       "      <td>1016.16</td>\n",
       "      <td>Partly cloudy starting in the morning.</td>\n",
       "      <td>9</td>\n",
       "      <td>9</td>\n",
       "      <td>2016</td>\n",
       "    </tr>\n",
       "  </tbody>\n",
       "</table>\n",
       "<p>96453 rows × 15 columns</p>\n",
       "</div>"
      ],
      "text/plain": [
       "                 Formatted Date        Summary Precip Type  Temperature (C)  \\\n",
       "0     2006-03-31 22:00:00+00:00  Partly Cloudy        rain         9.472222   \n",
       "1     2006-03-31 23:00:00+00:00  Partly Cloudy        rain         9.355556   \n",
       "2     2006-04-01 00:00:00+00:00  Mostly Cloudy        rain         9.377778   \n",
       "3     2006-04-01 01:00:00+00:00  Partly Cloudy        rain         8.288889   \n",
       "4     2006-04-01 02:00:00+00:00  Mostly Cloudy        rain         8.755556   \n",
       "...                         ...            ...         ...              ...   \n",
       "96448 2016-09-09 17:00:00+00:00  Partly Cloudy        rain        26.016667   \n",
       "96449 2016-09-09 18:00:00+00:00  Partly Cloudy        rain        24.583333   \n",
       "96450 2016-09-09 19:00:00+00:00  Partly Cloudy        rain        22.038889   \n",
       "96451 2016-09-09 20:00:00+00:00  Partly Cloudy        rain        21.522222   \n",
       "96452 2016-09-09 21:00:00+00:00  Partly Cloudy        rain        20.438889   \n",
       "\n",
       "       Apparent Temperature (C)  Humidity  Wind Speed (km/h)  \\\n",
       "0                      7.388889      0.89            14.1197   \n",
       "1                      7.227778      0.86            14.2646   \n",
       "2                      9.377778      0.89             3.9284   \n",
       "3                      5.944444      0.83            14.1036   \n",
       "4                      6.977778      0.83            11.0446   \n",
       "...                         ...       ...                ...   \n",
       "96448                 26.016667      0.43            10.9963   \n",
       "96449                 24.583333      0.48            10.0947   \n",
       "96450                 22.038889      0.56             8.9838   \n",
       "96451                 21.522222      0.60            10.5294   \n",
       "96452                 20.438889      0.61             5.8765   \n",
       "\n",
       "       Wind Bearing (degrees)  Visibility (km)  Loud Cover  \\\n",
       "0                       251.0          15.8263         0.0   \n",
       "1                       259.0          15.8263         0.0   \n",
       "2                       204.0          14.9569         0.0   \n",
       "3                       269.0          15.8263         0.0   \n",
       "4                       259.0          15.8263         0.0   \n",
       "...                       ...              ...         ...   \n",
       "96448                    31.0          16.1000         0.0   \n",
       "96449                    20.0          15.5526         0.0   \n",
       "96450                    30.0          16.1000         0.0   \n",
       "96451                    20.0          16.1000         0.0   \n",
       "96452                    39.0          15.5204         0.0   \n",
       "\n",
       "       Pressure (millibars)                           Daily Summary  day  \\\n",
       "0                   1015.13       Partly cloudy throughout the day.   31   \n",
       "1                   1015.63       Partly cloudy throughout the day.   31   \n",
       "2                   1015.94       Partly cloudy throughout the day.    1   \n",
       "3                   1016.41       Partly cloudy throughout the day.    1   \n",
       "4                   1016.51       Partly cloudy throughout the day.    1   \n",
       "...                     ...                                     ...  ...   \n",
       "96448               1014.36  Partly cloudy starting in the morning.    9   \n",
       "96449               1015.16  Partly cloudy starting in the morning.    9   \n",
       "96450               1015.66  Partly cloudy starting in the morning.    9   \n",
       "96451               1015.95  Partly cloudy starting in the morning.    9   \n",
       "96452               1016.16  Partly cloudy starting in the morning.    9   \n",
       "\n",
       "       month  year  \n",
       "0          3  2006  \n",
       "1          3  2006  \n",
       "2          4  2006  \n",
       "3          4  2006  \n",
       "4          4  2006  \n",
       "...      ...   ...  \n",
       "96448      9  2016  \n",
       "96449      9  2016  \n",
       "96450      9  2016  \n",
       "96451      9  2016  \n",
       "96452      9  2016  \n",
       "\n",
       "[96453 rows x 15 columns]"
      ]
     },
     "execution_count": 8,
     "metadata": {},
     "output_type": "execute_result"
    }
   ],
   "source": [
    "df\n",
    "#here we can see the date converted into 3 columns."
   ]
  },
  {
   "cell_type": "code",
   "execution_count": 77,
   "id": "97f966a4",
   "metadata": {},
   "outputs": [],
   "source": [
    "#we will show every column and searching for its type,size,having missing or not and do some visualisation."
   ]
  },
  {
   "cell_type": "code",
   "execution_count": 9,
   "id": "b924d9bd",
   "metadata": {},
   "outputs": [
    {
     "data": {
      "text/plain": [
       "'Partly CloudyMostly CloudyOvercastFoggyBreezy and Mostly CloudyClearBreezy and Partly CloudyBreezy and OvercastHumid and Mostly CloudyHumid and Partly CloudyWindy and FoggyWindy and OvercastBreezy and FoggyWindy and Partly CloudyBreezyDry and Partly CloudyWindy and Mostly CloudyDangerously Windy and Partly CloudyDryWindyHumid and OvercastLight RainDrizzleWindy and DryDry and Mostly CloudyBreezy and DryRain'"
      ]
     },
     "execution_count": 9,
     "metadata": {},
     "output_type": "execute_result"
    }
   ],
   "source": [
    "df['Summary'].unique().sum()\n",
    "#this feature have many catogries and its not important enough."
   ]
  },
  {
   "cell_type": "code",
   "execution_count": 10,
   "id": "91abf287",
   "metadata": {},
   "outputs": [
    {
     "name": "stdout",
     "output_type": "stream",
     "text": [
      "Precip Type\n",
      "rain    85224\n",
      "snow    10712\n",
      "Name: count, dtype: int64\n"
     ]
    }
   ],
   "source": [
    "# Assuming df is your DataFrame and 'column_name' is the column for which you want to find unique values\n",
    "unique_values = df['Precip Type'].value_counts()\n",
    "print(unique_values)\n",
    "#we can use this feature after we encoding it with one_hot_encoder as it will be (0,1)."
   ]
  },
  {
   "cell_type": "code",
   "execution_count": 11,
   "id": "895e124c",
   "metadata": {},
   "outputs": [
    {
     "data": {
      "text/plain": [
       "Temperature (C)\n",
       " 7.222222     455\n",
       " 7.777778     408\n",
       " 12.777778    378\n",
       " 17.777778    373\n",
       " 6.111111     370\n",
       "             ... \n",
       "-4.816667       1\n",
       "-4.716667       1\n",
       " 38.472222      1\n",
       "-6.327778       1\n",
       " 30.605556      1\n",
       "Name: count, Length: 7574, dtype: int64"
      ]
     },
     "execution_count": 11,
     "metadata": {},
     "output_type": "execute_result"
    }
   ],
   "source": [
    "df['Temperature (C)'].value_counts()\n",
    "#this feature have many catogries (continous values) and it will be the feature we need to predict."
   ]
  },
  {
   "cell_type": "code",
   "execution_count": 81,
   "id": "25989efd",
   "metadata": {},
   "outputs": [
    {
     "data": {
      "image/png": "[encoded data removed]",
      "text/plain": [
       "<Figure size 500x500 with 2 Axes>"
      ]
     },
     "metadata": {},
     "output_type": "display_data"
    }
   ],
   "source": [
    "#show the label data which we need to predict ('Temperature')\n",
    "\n",
    "# Replace 'Temperature (C)' with the label name to make a plot\n",
    "label = 'Temperature (C)'\n",
    "\n",
    "# Create a pair plot for the specified column\n",
    "sns.pairplot(df[[label]],height=5)\n",
    "plt.title(f'Par Plot for {label}')\n",
    "plt.show()\n",
    "\n",
    "#(continous values)"
   ]
  },
  {
   "cell_type": "code",
   "execution_count": 14,
   "id": "769a46fe",
   "metadata": {},
   "outputs": [
    {
     "data": {
      "text/plain": [
       "0         7.388889\n",
       "1         7.227778\n",
       "2         9.377778\n",
       "3         5.944444\n",
       "4         6.977778\n",
       "           ...    \n",
       "96448    26.016667\n",
       "96449    24.583333\n",
       "96450    22.038889\n",
       "96451    21.522222\n",
       "96452    20.438889\n",
       "Name: Apparent Temperature (C), Length: 96453, dtype: float64"
      ]
     },
     "execution_count": 14,
     "metadata": {},
     "output_type": "execute_result"
    }
   ],
   "source": [
    "df['Apparent Temperature (C)']\n",
    "#This feature is ready to be learnt (float) but its not important enough."
   ]
  },
  {
   "cell_type": "code",
   "execution_count": 15,
   "id": "589d1eb6",
   "metadata": {},
   "outputs": [
    {
     "data": {
      "text/plain": [
       "array([0.89, 0.86, 0.83, 0.85, 0.95, 0.82, 0.72, 0.67, 0.54, 0.55, 0.51,\n",
       "       0.47, 0.46, 0.6 , 0.63, 0.69, 0.7 , 0.77, 0.76, 0.79, 0.62, 0.66,\n",
       "       0.8 , 0.78, 0.61, 0.52, 0.4 , 0.37, 0.36, 0.43, 0.5 , 0.53, 0.58,\n",
       "       0.59, 0.87, 0.93, 0.84, 0.73, 0.71, 0.74, 0.81, 0.9 , 0.99, 0.96,\n",
       "       0.75, 0.88, 0.65, 0.91, 0.94, 0.92, 0.44, 0.56, 0.68, 0.64, 0.48,\n",
       "       0.57, 0.98, 1.  , 0.38, 0.41, 0.45, 0.49, 0.32, 0.42, 0.35, 0.39,\n",
       "       0.97, 0.34, 0.33, 0.31, 0.3 , 0.29, 0.27, 0.28, 0.26, 0.24, 0.25,\n",
       "       0.23, 0.19, 0.17, 0.2 , 0.15, 0.18, 0.22, 0.14, 0.21, 0.16, 0.13,\n",
       "       0.  , 0.12])"
      ]
     },
     "execution_count": 15,
     "metadata": {},
     "output_type": "execute_result"
    }
   ],
   "source": [
    "df['Humidity'].unique()\n",
    "#this feature is ready to be learnt (float)"
   ]
  },
  {
   "cell_type": "code",
   "execution_count": 41,
   "id": "b2a1ceb2",
   "metadata": {},
   "outputs": [
    {
     "data": {
      "image/png": "[encoded data removed]",
      "text/plain": [
       "<Figure size 640x480 with 1 Axes>"
      ]
     },
     "metadata": {},
     "output_type": "display_data"
    }
   ],
   "source": [
    "sns.kdeplot(df['Humidity'], color='blue', fill=True)\n",
    "plt.xlabel('Values')\n",
    "plt.ylabel('Density')\n",
    "plt.title('Humidity  kdeplot')\n",
    "plt.show()\n"
   ]
  },
  {
   "cell_type": "code",
   "execution_count": 16,
   "id": "550c0993",
   "metadata": {},
   "outputs": [
    {
     "data": {
      "text/plain": [
       "array([14.1197, 14.2646,  3.9284, ..., 37.0622, 35.5971, 30.751 ])"
      ]
     },
     "execution_count": 16,
     "metadata": {},
     "output_type": "execute_result"
    }
   ],
   "source": [
    "df['Wind Speed (km/h)'].unique()\n",
    "#This feature is ready to be learnt (float)"
   ]
  },
  {
   "cell_type": "code",
   "execution_count": 40,
   "id": "ea4585e0",
   "metadata": {},
   "outputs": [
    {
     "data": {
      "image/png": "[encoded data removed]",
      "text/plain": [
       "<Figure size 640x480 with 1 Axes>"
      ]
     },
     "metadata": {},
     "output_type": "display_data"
    }
   ],
   "source": [
    "sns.kdeplot(df['Wind Speed (km/h)'], color='red', fill=True)\n",
    "plt.xlabel('Values')\n",
    "plt.ylabel('Density')\n",
    "plt.title('Wind Speed (km/h) kdeplot')\n",
    "plt.show()\n"
   ]
  },
  {
   "cell_type": "code",
   "execution_count": 17,
   "id": "022058e2",
   "metadata": {},
   "outputs": [
    {
     "data": {
      "text/plain": [
       "0        251.0\n",
       "1        259.0\n",
       "2        204.0\n",
       "3        269.0\n",
       "4        259.0\n",
       "         ...  \n",
       "96448     31.0\n",
       "96449     20.0\n",
       "96450     30.0\n",
       "96451     20.0\n",
       "96452     39.0\n",
       "Name: Wind Bearing (degrees), Length: 96453, dtype: float64"
      ]
     },
     "execution_count": 17,
     "metadata": {},
     "output_type": "execute_result"
    }
   ],
   "source": [
    "df['Wind Bearing (degrees)']\n",
    "#This feature also is ready to be learnt (float)"
   ]
  },
  {
   "cell_type": "code",
   "execution_count": 39,
   "id": "bafe151c",
   "metadata": {},
   "outputs": [
    {
     "data": {
      "image/png": "[encoded data removed]",
      "text/plain": [
       "<Figure size 640x480 with 1 Axes>"
      ]
     },
     "metadata": {},
     "output_type": "display_data"
    }
   ],
   "source": [
    "sns.kdeplot(df['Wind Bearing (degrees)'], color='orange', fill=True)\n",
    "plt.xlabel('Values')\n",
    "plt.ylabel('Density')\n",
    "plt.title('Wind Bearing (degrees) kdeplot')\n",
    "plt.show()\n"
   ]
  },
  {
   "cell_type": "code",
   "execution_count": 18,
   "id": "3fb87e83",
   "metadata": {},
   "outputs": [
    {
     "data": {
      "text/plain": [
       "0        15.8263\n",
       "1        15.8263\n",
       "2        14.9569\n",
       "3        15.8263\n",
       "4        15.8263\n",
       "          ...   \n",
       "96448    16.1000\n",
       "96449    15.5526\n",
       "96450    16.1000\n",
       "96451    16.1000\n",
       "96452    15.5204\n",
       "Name: Visibility (km), Length: 96453, dtype: float64"
      ]
     },
     "execution_count": 18,
     "metadata": {},
     "output_type": "execute_result"
    }
   ],
   "source": [
    "df['Visibility (km)']\n",
    "#This feature also is ready to be learnt (float)."
   ]
  },
  {
   "cell_type": "code",
   "execution_count": 44,
   "id": "31db79ea",
   "metadata": {},
   "outputs": [
    {
     "data": {
      "image/png": "[encoded data removed]",
      "text/plain": [
       "<Figure size 640x480 with 1 Axes>"
      ]
     },
     "metadata": {},
     "output_type": "display_data"
    }
   ],
   "source": [
    "sns.boxplot(x=df['Visibility (km)'], color='blue')\n",
    "plt.xlabel('Values')\n",
    "plt.title('Visibility (km) Boxplot')\n",
    "plt.show()\n"
   ]
  },
  {
   "cell_type": "code",
   "execution_count": 19,
   "id": "54fa8ed1",
   "metadata": {},
   "outputs": [
    {
     "data": {
      "text/plain": [
       "array([0.])"
      ]
     },
     "execution_count": 19,
     "metadata": {},
     "output_type": "execute_result"
    }
   ],
   "source": [
    "df[\"Loud Cover\"].unique() \n",
    "#This feature is not important as it has one unique val so it has no effect."
   ]
  },
  {
   "cell_type": "code",
   "execution_count": 79,
   "id": "48275104",
   "metadata": {},
   "outputs": [
    {
     "data": {
      "text/plain": [
       "0        1015.13\n",
       "1        1015.63\n",
       "2        1015.94\n",
       "3        1016.41\n",
       "4        1016.51\n",
       "          ...   \n",
       "96448    1014.36\n",
       "96449    1015.16\n",
       "96450    1015.66\n",
       "96451    1015.95\n",
       "96452    1016.16\n",
       "Name: Pressure (millibars), Length: 96453, dtype: float64"
      ]
     },
     "execution_count": 79,
     "metadata": {},
     "output_type": "execute_result"
    }
   ],
   "source": [
    "df['Pressure (millibars)']\n",
    "#This feature has a continous values and its reday to be learnt (float).\n",
    "#Most values are around 1000 its not a very important feature."
   ]
  },
  {
   "cell_type": "code",
   "execution_count": 49,
   "id": "e37e4a13",
   "metadata": {},
   "outputs": [
    {
     "data": {
      "image/png": "[encoded data removed]",
      "text/plain": [
       "<Figure size 640x480 with 1 Axes>"
      ]
     },
     "metadata": {},
     "output_type": "display_data"
    }
   ],
   "source": [
    "sns.kdeplot(df['Pressure (millibars)'], color='green', fill=True)\n",
    "plt.xlabel('Values')\n",
    "plt.ylabel('Density')\n",
    "plt.title('Pressure (millibars) kdeplot')\n",
    "plt.show()"
   ]
  },
  {
   "cell_type": "code",
   "execution_count": 21,
   "id": "3f0ee0b2",
   "metadata": {},
   "outputs": [
    {
     "data": {
      "text/plain": [
       "Daily Summary\n",
       "Mostly cloudy throughout the day.                                                                       20085\n",
       "Partly cloudy throughout the day.                                                                        9981\n",
       "Partly cloudy until night.                                                                               6169\n",
       "Partly cloudy starting in the morning.                                                                   5184\n",
       "Foggy in the morning.                                                                                    4201\n",
       "                                                                                                        ...  \n",
       "Breezy starting overnight continuing until morning and foggy overnight.                                    24\n",
       "Mostly cloudy throughout the day and breezy starting overnight continuing until afternoon.                 24\n",
       "Partly cloudy starting in the morning and breezy starting in the afternoon continuing until evening.       24\n",
       "Rain until afternoon.                                                                                      24\n",
       "Foggy starting overnight continuing until morning and breezy in the afternoon.                             23\n",
       "Name: count, Length: 214, dtype: int64"
      ]
     },
     "execution_count": 21,
     "metadata": {},
     "output_type": "execute_result"
    }
   ],
   "source": [
    "df['Daily Summary'].value_counts()\n",
    "#This feature has many categories and its not important (object)."
   ]
  },
  {
   "cell_type": "code",
   "execution_count": null,
   "id": "a3410e5b",
   "metadata": {},
   "outputs": [],
   "source": []
  },
  {
   "cell_type": "markdown",
   "id": "88d2712d",
   "metadata": {},
   "source": [
    "################################################  Splitting dataset ##############################################"
   ]
  },
  {
   "cell_type": "code",
   "execution_count": 22,
   "id": "17eac141",
   "metadata": {},
   "outputs": [],
   "source": [
    "#We will put the features which suitable for learning into a var caled features.\n",
    "features = ['Humidity', 'Wind Speed (km/h)', 'Wind Bearing (degrees)', 'Visibility (km)', 'Pressure (millibars)']\n",
    "\n",
    "# Select relevant features and splitting the data into X,Y.\n",
    "X = df[features].values\n",
    "y = df['Temperature (C)'].values\n"
   ]
  },
  {
   "cell_type": "code",
   "execution_count": 23,
   "id": "d911701f",
   "metadata": {},
   "outputs": [],
   "source": [
    "# Split the data into training and testing sets\n",
    "X_train, X_test, y_train, y_test = train_test_split(X, y, test_size=0.25, random_state=42)"
   ]
  },
  {
   "cell_type": "code",
   "execution_count": null,
   "id": "c4328990",
   "metadata": {},
   "outputs": [],
   "source": []
  },
  {
   "cell_type": "markdown",
   "id": "9fa54f94",
   "metadata": {},
   "source": [
    "################################################  Create the model (fitting  phase)  ##############################################"
   ]
  },
  {
   "cell_type": "code",
   "execution_count": 24,
   "id": "fc409c86",
   "metadata": {},
   "outputs": [],
   "source": [
    "# Multiple Regression\n",
    "linear_reg = LinearRegression()\n",
    "linear_reg.fit(X_train, y_train)\n",
    "y_pred_linear = linear_reg.predict(X_test)\n"
   ]
  },
  {
   "cell_type": "code",
   "execution_count": 25,
   "id": "20453fef",
   "metadata": {},
   "outputs": [],
   "source": [
    "# Polynomial Regression\n",
    "degree = 2  # You can adjust the degree as needed\n",
    "poly_features = PolynomialFeatures(degree=degree)\n",
    "X_poly_train = poly_features.fit_transform(X_train)\n",
    "X_poly_test = poly_features.transform(X_test)\n",
    "\n",
    "poly_reg = LinearRegression()\n",
    "poly_reg.fit(X_poly_train, y_train)\n",
    "y_pred_poly = poly_reg.predict(X_poly_test)\n"
   ]
  },
  {
   "cell_type": "code",
   "execution_count": null,
   "id": "f45bc730",
   "metadata": {},
   "outputs": [],
   "source": []
  },
  {
   "cell_type": "markdown",
   "id": "430706c7",
   "metadata": {},
   "source": [
    "################################################  Evaluate the model (Evaluation phase) ##############################################"
   ]
  },
  {
   "cell_type": "code",
   "execution_count": 73,
   "id": "c7bf12fe",
   "metadata": {},
   "outputs": [
    {
     "name": "stdout",
     "output_type": "stream",
     "text": [
      "#######################################################\n",
      "MSE Linear Regression: 50.9129819846174\n",
      "MSE Polynomial Regression (degree=2): 40.79377539629876\n",
      "#######################################################\n",
      "MAE Linear Regression: 5.7352716518083895\n",
      "MAE Polynomial Regression (degree=2): 5.119110906609348\n",
      "#######################################################\n"
     ]
    }
   ],
   "source": [
    "# evaluate with Mean Squared Error (MSE)\n",
    "\n",
    "mse_linear = mean_squared_error(y_test, y_pred_linear)\n",
    "mse_poly = mean_squared_error(y_test, y_pred_poly)\n",
    "\n",
    "\n",
    "mae_linear = mean_absolute_error(y_test, y_pred_linear)\n",
    "mae_poly = mean_absolute_error(y_test, y_pred_poly)\n",
    "\n",
    "\n",
    "print(f'#######################################################')\n",
    "print(f'MSE Linear Regression: {mse_linear}')\n",
    "print(f'MSE Polynomial Regression (degree={degree}): {mse_poly}')\n",
    "print(f'#######################################################')\n",
    "print(f'MAE Linear Regression: {mae_linear}')\n",
    "print(f'MAE Polynomial Regression (degree={degree}): {mae_poly}')\n",
    "print(f'#######################################################')"
   ]
  },
  {
   "cell_type": "code",
   "execution_count": 70,
   "id": "07832066",
   "metadata": {},
   "outputs": [
    {
     "name": "stdout",
     "output_type": "stream",
     "text": [
      "#######################################################\n",
      "RMSE (Linear Regression): 7.135333347827374\n",
      "RMSE (Polynomial Regression): 6.3870005007279245\n",
      "#######################################################\n"
     ]
    }
   ],
   "source": [
    "# evaluate with Root Mean Squared Error (RMSE)\n",
    "\n",
    "print(f'#######################################################')\n",
    "rmse_linear = sqrt(mean_squared_error(y_test, y_pred_linear))\n",
    "rmse_poly = sqrt(mean_squared_error(y_test, y_pred_poly))\n",
    "\n",
    "print(f'RMSE (Linear Regression): {rmse_linear}')\n",
    "print(f'RMSE (Polynomial Regression): {rmse_poly}')\n",
    "print(f'#######################################################')"
   ]
  },
  {
   "cell_type": "code",
   "execution_count": 71,
   "id": "993b2dff",
   "metadata": {},
   "outputs": [
    {
     "name": "stdout",
     "output_type": "stream",
     "text": [
      "#######################################################\n",
      "R-squared (linear Regression): 0.4438765561421548\n",
      "R-squared (Polynomial Regression): 0.5544088368619333\n",
      "#######################################################\n"
     ]
    }
   ],
   "source": [
    "# evaluate with Coefficient of determination (R^2)\n",
    "\n",
    "print(f'#######################################################')\n",
    "r2_linear = r2_score(y_test, y_pred_linear)\n",
    "print(f'R-squared (linear Regression): {r2_linear}')\n",
    "\n",
    "r2_poly = r2_score(y_test, y_pred_poly)\n",
    "print(f'R-squared (Polynomial Regression): {r2_poly}')\n",
    "print(f'#######################################################')"
   ]
  },
  {
   "cell_type": "code",
   "execution_count": 76,
   "id": "9ee41d28",
   "metadata": {},
   "outputs": [
    {
     "data": {
      "image/png": "[encoded data removed]",
      "text/plain": [
       "<Figure size 640x480 with 1 Axes>"
      ]
     },
     "metadata": {},
     "output_type": "display_data"
    }
   ],
   "source": [
    "# Visualize predictions (Humidity with Temperature)\n",
    "plt.scatter(X_test[:, 0], y_test, color='black', label='True values')\n",
    "plt.scatter(X_test[:, 0], y_pred_linear, color='blue', label='Linear Regression')\n",
    "plt.scatter(X_test[:, 0], y_pred_poly, color='red', label=f'Poly Regression (degree={degree})')\n",
    "plt.xlabel('Humidity')\n",
    "plt.ylabel('Temperature')\n",
    "plt.legend()\n",
    "plt.show()"
   ]
  },
  {
   "cell_type": "code",
   "execution_count": null,
   "id": "266ceff3",
   "metadata": {},
   "outputs": [],
   "source": []
  },
  {
   "cell_type": "markdown",
   "id": "aac6657d",
   "metadata": {},
   "source": [
    "################################################  Test the model with a real data \n",
    "##############################################"
   ]
  },
  {
   "cell_type": "code",
   "execution_count": 28,
   "id": "267d85ef",
   "metadata": {},
   "outputs": [
    {
     "data": {
      "text/plain": [
       "array([9.23405979])"
      ]
     },
     "execution_count": 28,
     "metadata": {},
     "output_type": "execute_result"
    }
   ],
   "source": [
    "#We will pass 5 features to the model like the 5 features it learnt\n",
    "\n",
    "tri=((0.89,14.1197,251.0,15.8263,1015.13),) \n",
    "\n",
    "#this is the first 5 values in the data and the prediction should be around (9.472222)\n",
    "\n",
    "trying = linear_reg.predict(tri)\n",
    "\n",
    "trying\n",
    "#The model should return one value (Temperature)"
   ]
  },
  {
   "cell_type": "code",
   "execution_count": null,
   "id": "996dee2b",
   "metadata": {},
   "outputs": [],
   "source": []
  },
  {
   "cell_type": "markdown",
   "id": "45af13a9",
   "metadata": {},
   "source": [
    "Thanks.\n",
    "😊 "
   ]
  },
  {
   "cell_type": "markdown",
   "id": "3a1709fc",
   "metadata": {},
   "source": [
    "🚀🚀🚀🚀🚀🚀🚀🚀🚀🚀 ____ Mahmoud Mohamed Rady.     ___ Junior Data Scientist  (ML Eng) ___\n",
    "12/2023 ____ 🚀🚀🚀🚀🚀🚀🚀🚀🚀🚀🚀"
   ]
  },
  {
   "cell_type": "markdown",
   "id": "38785cf9",
   "metadata": {},
   "source": [
    "https://www.linkedin.com/in/mahmoud-rady-084426243"
   ]
  },
  {
   "cell_type": "code",
   "execution_count": null,
   "id": "e16da36d",
   "metadata": {},
   "outputs": [],
   "source": []
  }
 ],
 "metadata": {
  "kernelspec": {
   "display_name": "Python 3 (ipykernel)",
   "language": "python",
   "name": "python3"
  },
  "language_info": {
   "codemirror_mode": {
    "name": "ipython",
    "version": 3
   },
   "file_extension": ".py",
   "mimetype": "text/x-python",
   "name": "python",
   "nbconvert_exporter": "python",
   "pygments_lexer": "ipython3",
   "version": "3.10.13"
  }
 },
 "nbformat": 4,
 "nbformat_minor": 5
}
